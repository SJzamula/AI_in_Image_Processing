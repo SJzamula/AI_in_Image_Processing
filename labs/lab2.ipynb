{
 "cells": [
  {
   "cell_type": "code",
   "execution_count": 1,
   "metadata": {},
   "outputs": [
    {
     "name": "stdout",
     "output_type": "stream",
     "text": [
      "Found 3 faces!\n"
     ]
    },
    {
     "name": "stderr",
     "output_type": "stream",
     "text": [
      "Warning: Ignoring XDG_SESSION_TYPE=wayland on Gnome. Use QT_QPA_PLATFORM=wayland to run on Wayland anyway.\n"
     ]
    }
   ],
   "source": [
    "import cv2\n",
    "\n",
    "face_cascade = cv2.CascadeClassifier(cv2.data.haarcascades + 'haarcascade_frontalface_default.xml')\n",
    "scaling_factor = 0.5\n",
    "frame = cv2.imread('friends.jpg')\n",
    "frame = cv2.resize(frame, None, fx=scaling_factor, fy=scaling_factor, interpolation=cv2.INTER_AREA)\n",
    "face_rects = face_cascade.detectMultiScale(frame, scaleFactor=1.3, minNeighbors=5)\n",
    "\n",
    "print(f\"Found {len(face_rects)} faces!\")\n",
    "for (x, y, w, h) in face_rects:\n",
    "    cv2.rectangle(frame, (x, y), (x+w, y+h), (255, 0, 0), 3)\n",
    "\n",
    "cv2.imshow(\"Example\", frame)\n",
    "cv2.waitKey()\n",
    "cv2.destroyAllWindows()"
   ]
  },
  {
   "attachments": {},
   "cell_type": "markdown",
   "metadata": {},
   "source": [
    "Task 1"
   ]
  },
  {
   "cell_type": "code",
   "execution_count": 2,
   "metadata": {},
   "outputs": [
    {
     "name": "stdout",
     "output_type": "stream",
     "text": [
      "Found 3 faces!\n"
     ]
    }
   ],
   "source": [
    "import cv2\n",
    "\n",
    "face_cascade = cv2.CascadeClassifier(cv2.data.haarcascades + 'haarcascade_frontalface_default.xml')\n",
    "smile_cascade = cv2.CascadeClassifier(cv2.data.haarcascades + 'haarcascade_smile.xml')\n",
    "eye_cascade = cv2.CascadeClassifier(cv2.data.haarcascades + 'haarcascade_eye.xml')\n",
    "\n",
    "scaling_factor = 0.5\n",
    "\n",
    "frame = cv2.imread('friends.jpg')\n",
    "frame = cv2.resize(frame, None, fx=scaling_factor, fy=scaling_factor, interpolation=cv2.INTER_AREA)\n",
    "gray_filter = cv2.cvtColor(frame, cv2.COLOR_BGR2GRAY)\n",
    "\n",
    "face_rects = face_cascade.detectMultiScale(gray_filter, 1.3, 5)\n",
    "\n",
    "print(f\"Found {len(face_rects)} faces!\")\n",
    "\n",
    "for (x, y, w, h) in face_rects:\n",
    "    cv2.rectangle(frame, (x, y), (x+w, y+h), (255, 0, 0), 2)\n",
    "    roi_gray = gray_filter[y:y+h, x:x+w]\n",
    "    roi_color = frame[y:y+h, x:x+w]\n",
    "    smile = smile_cascade.detectMultiScale(roi_gray)\n",
    "    eye = eye_cascade.detectMultiScale(roi_gray)\n",
    "\n",
    "    for (sx, sy, sw, sh) in smile:\n",
    "        cv2.rectangle(roi_color, (sx, sy), (sx+sw, sy+ sh), (0, 255, 0), 1)\n",
    "    for (ex, ey, ew, eh) in eye:\n",
    "        cv2.rectangle(roi_color, (ex, ey), (ex + ew, ey + eh), (0, 0, 255), 1)\n",
    "\n",
    "cv2.imshow(\"Example\", frame)\n",
    "cv2.waitKey()\n",
    "cv2.destroyAllWindows()"
   ]
  },
  {
   "cell_type": "code",
   "execution_count": 3,
   "metadata": {},
   "outputs": [],
   "source": [
    "import cv2\n",
    "\n",
    "scaling_factor = 0.2\n",
    "hog = cv2.HOGDescriptor()\n",
    "hog.setSVMDetector(cv2.HOGDescriptor_getDefaultPeopleDetector())\n",
    "\n",
    "frame = cv2.imread('walk.jpg')\n",
    "frame = cv2.resize(frame, None, fx=scaling_factor, fy=scaling_factor, interpolation=cv2.INTER_AREA)\n",
    "people_rects = hog.detectMultiScale(frame, winStride=(8,8), padding=(30, 30), scale=1.06)\n",
    "\n",
    "for (x, y, w, h) in people_rects[0]:\n",
    "    cv2.rectangle(frame, (x, y), (x+w, y+h), (255, 0, 0), 2)\n",
    "\n",
    "cv2.imshow('Example', frame)\n",
    "cv2.waitKey()\n",
    "cv2.destroyAllWindows()"
   ]
  },
  {
   "cell_type": "code",
   "execution_count": 2,
   "metadata": {},
   "outputs": [],
   "source": [
    "import cv2\n",
    "import numpy as np\n",
    "\n",
    "hog = cv2.HOGDescriptor()\n",
    "hog.setSVMDetector(cv2.HOGDescriptor_getDefaultPeopleDetector())\n",
    "cv2.startWindowThread()\n",
    "\n",
    "cap = cv2.VideoCapture('LondonWalk.mp4')\n",
    "while True:\n",
    "    ret, frame = cap.read()\n",
    "\n",
    "    frame = cv2.resize(frame, (800, 560))\n",
    "    gray_filter = cv2.cvtColor(frame, cv2.COLOR_RGB2GRAY)\n",
    "    boxes, weights = hog.detectMultiScale(frame, winStride=(8,8))\n",
    "    boxes = np.array([[x, y, x+w, y+h] for (x, y, w, h) in boxes])\n",
    "    for (xa, ya, xb, yb) in boxes:\n",
    "        cv2.rectangle(frame, (xa, ya), (xb, yb), (0, 255, 255), 1)\n",
    "\n",
    "    cv2.imshow('Video', frame)\n",
    "    if (cv2.waitKey(1) & 0XFF==ord('q')):\n",
    "        break\n",
    "\n",
    "cap.release()\n",
    "cv2.destroyAllWindows()"
   ]
  },
  {
   "attachments": {},
   "cell_type": "markdown",
   "metadata": {},
   "source": [
    "task 2"
   ]
  },
  {
   "cell_type": "code",
   "execution_count": 1,
   "metadata": {},
   "outputs": [
    {
     "name": "stderr",
     "output_type": "stream",
     "text": [
      "Warning: Ignoring XDG_SESSION_TYPE=wayland on Gnome. Use QT_QPA_PLATFORM=wayland to run on Wayland anyway.\n"
     ]
    }
   ],
   "source": [
    "import cv2\n",
    "import numpy as np\n",
    "\n",
    "face_cascade = cv2.CascadeClassifier(cv2.data.haarcascades + 'haarcascade_frontalface_default.xml')\n",
    "\n",
    "cap = cv2.VideoCapture('VideoFaces.mp4')\n",
    "\n",
    "while True:\n",
    "    ret, frame = cap.read()\n",
    "    gray_filter = cv2.cvtColor(frame, cv2.COLOR_RGB2GRAY)\n",
    "\n",
    "    face_rects = face_cascade.detectMultiScale(gray_filter, 1.3, 5)\n",
    "\n",
    "    for (x, y, w, h) in face_rects:\n",
    "        cv2.rectangle(frame, (x, y), (x+w, y+h), (190, 70, 120), 3)        \n",
    "\n",
    "    cv2.imshow('Video', frame)\n",
    "    if (cv2.waitKey(30) & 0XFF==ord('q')):\n",
    "        break\n",
    "\n",
    "cap.release()\n",
    "cv2.destroyAllWindows()"
   ]
  },
  {
   "attachments": {},
   "cell_type": "markdown",
   "metadata": {},
   "source": [
    "task 3"
   ]
  },
  {
   "cell_type": "code",
   "execution_count": 2,
   "metadata": {},
   "outputs": [],
   "source": [
    "import cv2\n",
    "import numpy as np\n",
    "\n",
    "hog = cv2.HOGDescriptor()\n",
    "hog.setSVMDetector(cv2.HOGDescriptor_getDefaultPeopleDetector())\n",
    "cv2.startWindowThread()\n",
    "\n",
    "face_cascade = cv2.CascadeClassifier(cv2.data.haarcascades + 'haarcascade_frontalface_default.xml')\n",
    "\n",
    "cap = cv2.VideoCapture('LondonWalk.mp4')\n",
    "while True:\n",
    "    ret, frame = cap.read()\n",
    "\n",
    "    frame = cv2.resize(frame, (800, 560))\n",
    "    gray_filter = cv2.cvtColor(frame, cv2.COLOR_RGB2GRAY)\n",
    "    boxes, weights = hog.detectMultiScale(frame, winStride=(8,8))\n",
    "    boxes = np.array([[x, y, x+w, y+h] for (x, y, w, h) in boxes])\n",
    "\n",
    "    face_rects = face_cascade.detectMultiScale(gray_filter, 1.3, 5) \n",
    "    \n",
    "    for (xa, ya, xb, yb) in boxes:\n",
    "        cv2.rectangle(frame, (xa, ya), (xb, yb), (0, 255, 255), 1)\n",
    "        \n",
    "    for (x, y, w, h) in face_rects:\n",
    "        cv2.rectangle(frame, (x, y), (x+w, y+h), (190, 70, 120), 3)        \n",
    "\n",
    "    cv2.imshow('Video', frame)\n",
    "    if (cv2.waitKey(1) & 0XFF==ord('q')):\n",
    "        break\n",
    "\n",
    "cap.release()\n",
    "cv2.destroyAllWindows()"
   ]
  }
 ],
 "metadata": {
  "kernelspec": {
   "display_name": "base",
   "language": "python",
   "name": "python3"
  },
  "language_info": {
   "codemirror_mode": {
    "name": "ipython",
    "version": 3
   },
   "file_extension": ".py",
   "mimetype": "text/x-python",
   "name": "python",
   "nbconvert_exporter": "python",
   "pygments_lexer": "ipython3",
   "version": "3.10.9"
  },
  "orig_nbformat": 4
 },
 "nbformat": 4,
 "nbformat_minor": 2
}
