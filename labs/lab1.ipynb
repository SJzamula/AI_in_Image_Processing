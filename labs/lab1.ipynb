{
 "cells": [
  {
   "attachments": {},
   "cell_type": "markdown",
   "metadata": {},
   "source": [
    "Reads file and output image"
   ]
  },
  {
   "cell_type": "code",
   "execution_count": 1,
   "metadata": {},
   "outputs": [
    {
     "name": "stderr",
     "output_type": "stream",
     "text": [
      "Warning: Ignoring XDG_SESSION_TYPE=wayland on Gnome. Use QT_QPA_PLATFORM=wayland to run on Wayland anyway.\n"
     ]
    }
   ],
   "source": [
    "import cv2\n",
    "\n",
    "img = cv2.imread('friends.jpg')\n",
    "cv2.imshow('My image', img)\n",
    "cv2.waitKey()\n",
    "cv2.destroyAllWindows()"
   ]
  },
  {
   "attachments": {},
   "cell_type": "markdown",
   "metadata": {},
   "source": [
    "Read file, then changes color for image and outputs it"
   ]
  },
  {
   "cell_type": "code",
   "execution_count": 1,
   "metadata": {},
   "outputs": [
    {
     "name": "stderr",
     "output_type": "stream",
     "text": [
      "Warning: Ignoring XDG_SESSION_TYPE=wayland on Gnome. Use QT_QPA_PLATFORM=wayland to run on Wayland anyway.\n"
     ]
    }
   ],
   "source": [
    "import cv2\n",
    "\n",
    "img_gray = cv2.imread('friends.jpg', 0)\n",
    "\n",
    "cv2.imshow('My image', img_gray)\n",
    "cv2.waitKey()\n",
    "cv2.destroyAllWindows()"
   ]
  },
  {
   "attachments": {},
   "cell_type": "markdown",
   "metadata": {},
   "source": [
    "Writes new file to selected folder"
   ]
  },
  {
   "cell_type": "code",
   "execution_count": 2,
   "metadata": {},
   "outputs": [
    {
     "data": {
      "text/plain": [
       "True"
      ]
     },
     "execution_count": 2,
     "metadata": {},
     "output_type": "execute_result"
    }
   ],
   "source": [
    "import cv2\n",
    "\n",
    "img_gray = cv2.imread('friends.jpg', 0)\n",
    "cv2.imwrite('./img/friends2.jpg', img_gray)"
   ]
  },
  {
   "attachments": {},
   "cell_type": "markdown",
   "metadata": {},
   "source": [
    "Access to some pixels. \n",
    "x = 50, \n",
    "y = 100\n",
    "heigh - numer of rows, \n",
    "width - number of columns"
   ]
  },
  {
   "cell_type": "code",
   "execution_count": 3,
   "metadata": {},
   "outputs": [
    {
     "name": "stdout",
     "output_type": "stream",
     "text": [
      "red = 148,  green = 162,  blue = 165\n"
     ]
    }
   ],
   "source": [
    "import cv2\n",
    "\n",
    "img = cv2.imread('friends.jpg')\n",
    "(blue, green, red) = img[100, 50]\n",
    "print(f\"{red = }, { green = }, { blue = }\")"
   ]
  },
  {
   "attachments": {},
   "cell_type": "markdown",
   "metadata": {},
   "source": [
    "Cuts and outputs part of image"
   ]
  },
  {
   "cell_type": "code",
   "execution_count": 36,
   "metadata": {},
   "outputs": [],
   "source": [
    "import cv2\n",
    "\n",
    "img = cv2.imread('friends.jpg')\n",
    "roi = img[155:340, 400:630]\n",
    "cv2.imshow('My image', roi)\n",
    "cv2.waitKey()\n",
    "cv2.destroyAllWindows()"
   ]
  },
  {
   "attachments": {},
   "cell_type": "markdown",
   "metadata": {},
   "source": [
    "Resizes and outputs image.\n",
    "We can resize it in two ways: manually, or atomatically. \n",
    "Manually we can use formulas (it will be commented code)\n",
    "To do it automatically, we will use imutils"
   ]
  },
  {
   "cell_type": "code",
   "execution_count": 37,
   "metadata": {},
   "outputs": [],
   "source": [
    "import cv2\n",
    "import imutils\n",
    "\n",
    "img = cv2.imread('friends.jpg')\n",
    "#h, w = img.shape[0:2]\n",
    "#h_new = 400\n",
    "#ratio = w / h\n",
    "#w_new = int(h_new * ratio)\n",
    "#resized = cv2.resize(img, (w_new, h_new))\n",
    "resized = imutils.resize(img, width=500)\n",
    "cv2.imshow('My image', resized)\n",
    "cv2.waitKey()\n",
    "cv2.destroyAllWindows()"
   ]
  },
  {
   "attachments": {},
   "cell_type": "markdown",
   "metadata": {},
   "source": [
    "Rotate image\n",
    "Two ways: manually, using imutuls"
   ]
  },
  {
   "cell_type": "code",
   "execution_count": 38,
   "metadata": {},
   "outputs": [],
   "source": [
    "import cv2\n",
    "import imutils\n",
    "import numpy as np\n",
    "\n",
    "img = cv2.imread('friends.jpg')\n",
    "resized = imutils.resize(img, width=500)\n",
    "#h, w = resized.shape[0:2]\n",
    "#center = ( w // 2, h // 2)\n",
    "#M = cv2.getRotationMatrix2D(center, -45, 1.0)\n",
    "#rotated = cv2.warpAffine(resized, M, (w,h))\n",
    "rotated = imutils.rotate(resized, -45)\n",
    "cv2.imshow('My image', rotated)\n",
    "cv2.waitKey()\n",
    "cv2.destroyAllWindows()"
   ]
  },
  {
   "attachments": {},
   "cell_type": "markdown",
   "metadata": {},
   "source": [
    "Blur image\n",
    "using numpy we can stik original and blured image together"
   ]
  },
  {
   "cell_type": "code",
   "execution_count": 40,
   "metadata": {},
   "outputs": [],
   "source": [
    "import cv2\n",
    "import imutils\n",
    "import numpy as np\n",
    "\n",
    "img = cv2.imread('friends.jpg')\n",
    "resized = imutils.resize(img, width=500)\n",
    "blurred = cv2.GaussianBlur(resized, (11, 11), 0)\n",
    "suming = np.hstack((resized, blurred))\n",
    "cv2.imshow('My image', suming)\n",
    "cv2.waitKey()\n",
    "cv2.destroyAllWindows()"
   ]
  },
  {
   "attachments": {},
   "cell_type": "markdown",
   "metadata": {},
   "source": [
    "Writes rectangle"
   ]
  },
  {
   "cell_type": "code",
   "execution_count": 1,
   "metadata": {},
   "outputs": [
    {
     "name": "stderr",
     "output_type": "stream",
     "text": [
      "Warning: Ignoring XDG_SESSION_TYPE=wayland on Gnome. Use QT_QPA_PLATFORM=wayland to run on Wayland anyway.\n"
     ]
    }
   ],
   "source": [
    "import cv2\n",
    "import imutils\n",
    "import numpy as np\n",
    "\n",
    "img = cv2.imread('friends.jpg')\n",
    "resized = imutils.resize(img, width=500)\n",
    "cv2.rectangle(resized, (340, 90), (440, 160), (0,0,255), 2)\n",
    "cv2.imshow('My image', resized)\n",
    "cv2.waitKey()\n",
    "cv2.destroyAllWindows()"
   ]
  },
  {
   "attachments": {},
   "cell_type": "markdown",
   "metadata": {},
   "source": [
    "Write a line"
   ]
  },
  {
   "cell_type": "code",
   "execution_count": 42,
   "metadata": {},
   "outputs": [],
   "source": [
    "import cv2\n",
    "import numpy as np\n",
    "\n",
    "img = np.zeros((300, 300, 3), np.uint8)\n",
    "cv2.line(img, (0, 100), (300, 300), (0, 255, 0), 4)\n",
    "cv2.imshow('My image', img)\n",
    "cv2.waitKey()\n",
    "cv2.destroyAllWindows()"
   ]
  },
  {
   "attachments": {},
   "cell_type": "markdown",
   "metadata": {},
   "source": [
    "Writes triangle"
   ]
  },
  {
   "cell_type": "code",
   "execution_count": 43,
   "metadata": {},
   "outputs": [],
   "source": [
    "import cv2\n",
    "import numpy as np\n",
    "\n",
    "img = np.zeros((300, 300, 3), np.uint8)\n",
    "points= np.array([[50, 50], [200, 140], [30, 210], [50, 50]])\n",
    "cv2.polylines(img, np.int32([points]), 1, (255, 12, 255))\n",
    "cv2.imshow('My image', img)\n",
    "cv2.waitKey()\n",
    "cv2.destroyAllWindows()"
   ]
  },
  {
   "attachments": {},
   "cell_type": "markdown",
   "metadata": {},
   "source": [
    "Draw a circle"
   ]
  },
  {
   "cell_type": "code",
   "execution_count": 44,
   "metadata": {},
   "outputs": [],
   "source": [
    "import cv2\n",
    "import numpy as np\n",
    "\n",
    "img = np.zeros((300, 300, 3), np.uint8)\n",
    "cv2.circle(img, (150, 150), 80, (0, 255, 255), 4)\n",
    "cv2.imshow('My image', img)\n",
    "cv2.waitKey()\n",
    "cv2.destroyAllWindows()"
   ]
  },
  {
   "attachments": {},
   "cell_type": "markdown",
   "metadata": {},
   "source": [
    "Text on image"
   ]
  },
  {
   "cell_type": "code",
   "execution_count": 45,
   "metadata": {},
   "outputs": [],
   "source": [
    "import cv2\n",
    "import numpy as np\n",
    "\n",
    "img = np.zeros((200, 600, 3), np.uint8)\n",
    "font = cv2.FONT_HERSHEY_PLAIN\n",
    "cv2.putText(\n",
    "    img, \n",
    "    'Image Processing',\n",
    "    (0, 100),\n",
    "    font,\n",
    "    4,\n",
    "    (255, 255, 255),\n",
    "    3,\n",
    "    cv2.LINE_4\n",
    ")\n",
    "cv2.imshow('My image', img)\n",
    "cv2.waitKey()\n",
    "cv2.destroyAllWindows()"
   ]
  }
 ],
 "metadata": {
  "kernelspec": {
   "display_name": "Python 3",
   "language": "python",
   "name": "python3"
  },
  "language_info": {
   "codemirror_mode": {
    "name": "ipython",
    "version": 3
   },
   "file_extension": ".py",
   "mimetype": "text/x-python",
   "name": "python",
   "nbconvert_exporter": "python",
   "pygments_lexer": "ipython3",
   "version": "3.10.9"
  },
  "orig_nbformat": 4
 },
 "nbformat": 4,
 "nbformat_minor": 2
}
