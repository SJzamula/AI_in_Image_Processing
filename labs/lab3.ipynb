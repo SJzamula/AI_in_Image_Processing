{
 "cells": [
  {
   "attachments": {},
   "cell_type": "markdown",
   "metadata": {},
   "source": [
    "Читання та відображення вихідного файлу;"
   ]
  },
  {
   "cell_type": "code",
   "execution_count": 1,
   "metadata": {},
   "outputs": [
    {
     "name": "stderr",
     "output_type": "stream",
     "text": [
      "Warning: Ignoring XDG_SESSION_TYPE=wayland on Gnome. Use QT_QPA_PLATFORM=wayland to run on Wayland anyway.\n"
     ]
    }
   ],
   "source": [
    "import cv2\n",
    "\n",
    "img = cv2.imread('./road2.jpg')\n",
    "\n",
    "cv2.imshow('Input image', img)\n",
    "cv2.waitKey(0)\n",
    "cv2.destroyAllWindows()"
   ]
  },
  {
   "attachments": {},
   "cell_type": "markdown",
   "metadata": {},
   "source": [
    "Конвертація в сіре зображення;"
   ]
  },
  {
   "cell_type": "code",
   "execution_count": 3,
   "metadata": {},
   "outputs": [],
   "source": [
    "import cv2\n",
    "\n",
    "img = cv2.imread('./road2.jpg')\n",
    "\n",
    "grayScale = cv2.cvtColor(\n",
    "    img, cv2.COLOR_BGR2GRAY\n",
    ")\n",
    "\n",
    "cv2.imshow('Input image', grayScale)\n",
    "cv2.waitKey(0)\n",
    "cv2.destroyAllWindows()"
   ]
  },
  {
   "attachments": {},
   "cell_type": "markdown",
   "metadata": {},
   "source": [
    "Розмиття зображення;"
   ]
  },
  {
   "cell_type": "code",
   "execution_count": 4,
   "metadata": {},
   "outputs": [],
   "source": [
    "import cv2\n",
    "\n",
    "img = cv2.imread('./road2.jpg')\n",
    "\n",
    "gray_scale = cv2.cvtColor(\n",
    "    img, cv2.COLOR_BGR2GRAY\n",
    ")\n",
    "\n",
    "kernel_size = 5\n",
    "blured_img = cv2.GaussianBlur(\n",
    "    gray_scale,\n",
    "    (kernel_size, kernel_size),\n",
    "    0\n",
    ")\n",
    "\n",
    "cv2.imshow('Input image', blured_img)\n",
    "cv2.waitKey(0)\n",
    "cv2.destroyAllWindows()"
   ]
  },
  {
   "attachments": {},
   "cell_type": "markdown",
   "metadata": {},
   "source": [
    "Застосування алгоритму Кенні;"
   ]
  },
  {
   "cell_type": "code",
   "execution_count": 2,
   "metadata": {},
   "outputs": [],
   "source": [
    "import cv2\n",
    "\n",
    "img = cv2.imread('./road2.jpg')\n",
    "\n",
    "gray_scale = cv2.cvtColor(\n",
    "    img, cv2.COLOR_BGR2GRAY\n",
    ")\n",
    "\n",
    "kernel_size = 5\n",
    "blured_img = cv2.GaussianBlur(\n",
    "    gray_scale,\n",
    "    (kernel_size, kernel_size),\n",
    "    0\n",
    ")\n",
    "\n",
    "low_t = 50\n",
    "high_t = 150\n",
    "edges = cv2.Canny(blured_img, low_t, high_t)\n",
    "\n",
    "cv2.imshow('Input image', edges)\n",
    "cv2.waitKey(0)\n",
    "cv2.destroyAllWindows()\n"
   ]
  },
  {
   "attachments": {},
   "cell_type": "markdown",
   "metadata": {},
   "source": [
    "Створення набору вершин для маски;"
   ]
  },
  {
   "cell_type": "code",
   "execution_count": 10,
   "metadata": {},
   "outputs": [],
   "source": [
    "import cv2\n",
    "import numpy as np\n",
    "\n",
    "img = cv2.imread('./road2.jpg')\n",
    "\n",
    "gray_scale = cv2.cvtColor(\n",
    "    img, cv2.COLOR_BGR2GRAY\n",
    ")\n",
    "\n",
    "kernel_size = 5\n",
    "blured_img = cv2.GaussianBlur(\n",
    "    gray_scale,\n",
    "    (kernel_size, kernel_size),\n",
    "    0\n",
    ")\n",
    "\n",
    "low_t = 50\n",
    "high_t = 150\n",
    "edges = cv2.Canny(blured_img, low_t, high_t)\n",
    "\n",
    "vertices = np.array(\n",
    "    [\n",
    "        [(0, img.shape[0]), (450, 310),\n",
    "         (490, 310), (img.shape[1],\n",
    "                      img.shape[0])\n",
    "         ]\n",
    "    ], dtype=np.int32\n",
    ")\n",
    "mask = np.zeros_like(edges)\n",
    "ignore_mask_color = 255\n",
    "cv2.fillPoly(mask, vertices, ignore_mask_color)\n",
    "mask_edges = cv2.bitwise_and(edges, mask)\n",
    "\n",
    "cv2.imshow('Input image', mask_edges)\n",
    "cv2.waitKey(0)\n",
    "cv2.destroyAllWindows()\n"
   ]
  },
  {
   "attachments": {},
   "cell_type": "markdown",
   "metadata": {},
   "source": [
    "Маска;"
   ]
  },
  {
   "cell_type": "code",
   "execution_count": 17,
   "metadata": {},
   "outputs": [],
   "source": [
    "\n"
   ]
  },
  {
   "attachments": {},
   "cell_type": "markdown",
   "metadata": {},
   "source": [
    "Замасковане зображення;"
   ]
  },
  {
   "cell_type": "code",
   "execution_count": null,
   "metadata": {},
   "outputs": [],
   "source": []
  },
  {
   "attachments": {},
   "cell_type": "markdown",
   "metadata": {},
   "source": [
    "Застосування перетворення Хафа"
   ]
  },
  {
   "cell_type": "code",
   "execution_count": 11,
   "metadata": {},
   "outputs": [],
   "source": [
    "import cv2\n",
    "import numpy as np\n",
    "\n",
    "img = cv2.imread('./road2.jpg')\n",
    "\n",
    "def draw_lines(img, lines, color = [255, 0, 0], thickness = 7):\n",
    "    x_bottom_pos = []\n",
    "    x_upper_pos = []\n",
    "    x_bottom_neg = []\n",
    "    x_upper_neg = []\n",
    "\n",
    "    y_bottom = 540\n",
    "    y_upper = 315\n",
    "\n",
    "    for line in lines:\n",
    "        for x1, y1, x2, y2 in line:\n",
    "            if ((y2 - y1) / (x2 - x1)) > 0.5 and ((y2 - y1) / (x2 - x1)) < 0.8:\n",
    "\n",
    "                slope = ((y2 - y1) / (x2 - x1))\n",
    "                b = y1 - slope * x1\n",
    "\n",
    "                x_bottom_pos.append((y_bottom - b) / slope)\n",
    "                x_upper_pos.append((y_upper - b) / slope)\n",
    "\n",
    "            elif ((y2 - y1) / (x2 - x1)) < -0.5 and ((y2 - y1) / (x2 - x1)) > -0.8:\n",
    "                slope = ((y2 - y1) / (x2 - x1))\n",
    "                b = y1 - slope * x1\n",
    "\n",
    "                x_bottom_neg.append((y_bottom - b) / slope)\n",
    "                x_upper_neg.append((y_upper - b) / slope)\n",
    "\n",
    "    lines_mean = np.array(\n",
    "        [\n",
    "            [int(np.mean(x_bottom_pos)), int(np.mean(y_bottom)), int(np.mean(x_upper_pos)), int(np.mean(y_upper))],\n",
    "            [int(np.mean(x_bottom_neg)), int(np.mean(y_bottom)), int(np.mean(x_upper_neg)), int(np.mean(y_upper))]\n",
    "        ]\n",
    "    )\n",
    "\n",
    "    for i in range(len(lines_mean)):\n",
    "        cv2.line(img, (lines_mean[i, 0], lines_mean[i, 1]), (lines_mean[i, 2], lines_mean[i, 3]), color, thickness)\n",
    "\n",
    "low_t = 50\n",
    "high_t = 255\n",
    "edges = cv2.Canny(img, low_t, high_t)\n",
    "\n",
    "vertices = np.array(\n",
    "    [\n",
    "        [(0, img.shape[0]), (450, 310),\n",
    "         (490, 310), (img.shape[1],\n",
    "                      img.shape[0])\n",
    "         ]\n",
    "    ], dtype=np.int32\n",
    ")\n",
    "mask = np.zeros_like(edges)\n",
    "ignore_mask_color = 255\n",
    "cv2.fillPoly(mask, vertices, ignore_mask_color)\n",
    "mask_edges = cv2.bitwise_and(edges, mask)\n",
    "\n",
    "rho = 3\n",
    "theta = np.pi / 180\n",
    "threshold = 15\n",
    "mun_line_len = 150\n",
    "max_line_gap = 60\n",
    "lines = cv2.HoughLinesP(\n",
    "    mask_edges, \n",
    "    rho, \n",
    "    theta, \n",
    "    threshold, \n",
    "    np.array([]),\n",
    "    minLineLength=mun_line_len,\n",
    "    maxLineGap=max_line_gap\n",
    ")\n",
    "\n",
    "draw_lines(img, lines)\n",
    "\n",
    "cv2.imshow('Input image', img)\n",
    "cv2.waitKey(0)\n",
    "cv2.destroyAllWindows()"
   ]
  },
  {
   "attachments": {},
   "cell_type": "markdown",
   "metadata": {},
   "source": [
    "Обробка відефайлу"
   ]
  },
  {
   "cell_type": "code",
   "execution_count": 9,
   "metadata": {},
   "outputs": [],
   "source": [
    "import cv2\n",
    "import numpy as np\n",
    "\n",
    "video_capture = cv2.VideoCapture('road.mp4')\n",
    "\n",
    "def draw_lines(img, lines, color = [255, 0, 0], thickness = 7):\n",
    "    if lines is None:\n",
    "        return\n",
    "    x_bottom_pos, x_upper_pos = [], []\n",
    "    x_bottom_neg, x_upper_neg = [], []\n",
    "\n",
    "    y_bottom = img.shape[0]\n",
    "    y_upper = img.shape[0] * (3/5)\n",
    "\n",
    "    for line in lines:\n",
    "        for x1, y1, x2, y2 in line:\n",
    "            if ((y2 - y1) / (x2 - x1)) > 0.5 and ((y2 - y1) / (x2 - x1)) < 0.8:\n",
    "\n",
    "                slope = ((y2 - y1) / (x2 - x1))\n",
    "                b = y1 - slope * x1\n",
    "\n",
    "                x_bottom_pos.append((y_bottom - b) / slope)\n",
    "                x_upper_pos.append((y_upper - b) / slope)\n",
    "\n",
    "            elif ((y2 - y1) / (x2 - x1)) < -0.5 and ((y2 - y1) / (x2 - x1)) > -0.8:\n",
    "                slope = ((y2 - y1) / (x2 - x1))\n",
    "                b = y1 - slope * x1\n",
    "\n",
    "                x_bottom_neg.append((y_bottom - b) / slope)\n",
    "                x_upper_neg.append((y_upper - b) / slope)\n",
    "\n",
    "    lines_mean = np.zeros((2, 4), dtype=np.int32)\n",
    "    if len(x_bottom_pos) > 0 and len(x_upper_pos) > 0:\n",
    "        lines_mean[0] = [int(np.mean(x_bottom_pos)), int(np.mean(y_bottom)), int(np.mean(x_upper_pos)), int(np.mean(y_upper))]\n",
    "    if len(x_bottom_neg) > 0 and len(x_upper_neg) > 0:\n",
    "        lines_mean[1] = [int(np.mean(x_bottom_neg)), int(np.mean(y_bottom)), int(np.mean(x_upper_neg)), int(np.mean(y_upper))]\n",
    "\n",
    "    for i in range(len(lines_mean)):\n",
    "        cv2.line(img, (lines_mean[i, 0], lines_mean[i, 1]), (lines_mean[i, 2], lines_mean[i, 3]), color, thickness)\n",
    "\n",
    "def process_image(frame):\n",
    "    low_t = 50\n",
    "    high_t = 255\n",
    "    gray = cv2.cvtColor(frame, cv2.COLOR_BGR2GRAY)\n",
    "    kernel_size = 5\n",
    "    blur = cv2.GaussianBlur(\n",
    "        gray,\n",
    "        (kernel_size, kernel_size),\n",
    "        0\n",
    "    )\n",
    "\n",
    "    edges = cv2.Canny(blur, low_t, high_t)\n",
    "\n",
    "    vertices = np.array(\n",
    "        [\n",
    "            [(0, frame.shape[0]), \n",
    "             (450, 310),\n",
    "             (490, 310), \n",
    "             (frame.shape[1], frame.shape[0])\n",
    "            ]\n",
    "        ], dtype=np.int32\n",
    "    )\n",
    "    mask = np.zeros_like(edges)\n",
    "    ignore_mask_color = 255\n",
    "    cv2.fillPoly(mask, vertices, ignore_mask_color)\n",
    "    mask_edges = cv2.bitwise_and(edges, mask)\n",
    "\n",
    "    rho = 3\n",
    "    theta = np.pi / 180\n",
    "    threshold = 15\n",
    "    min_line_len = 150\n",
    "    max_line_gap = 60\n",
    "    lines = cv2.HoughLinesP(\n",
    "        mask_edges, \n",
    "        rho, \n",
    "        theta, \n",
    "        threshold, \n",
    "        np.array([]),\n",
    "        minLineLength=min_line_len,\n",
    "        maxLineGap=max_line_gap\n",
    "    )\n",
    "\n",
    "    draw_lines(frame, lines)\n",
    "\n",
    "\n",
    "while video_capture.isOpened():\n",
    "    ret, frame = video_capture.read()\n",
    "    if not ret: \n",
    "        break\n",
    "    \n",
    "    process_image(frame)\n",
    "    cv2.imshow('frame', frame)\n",
    "\n",
    "    if cv2.waitKey(1) & 0xFF == ord('q'):\n",
    "        break\n",
    "    \n",
    "\n",
    "video_capture.release()\n",
    "cv2.destroyAllWindows()"
   ]
  }
 ],
 "metadata": {
  "kernelspec": {
   "display_name": "base",
   "language": "python",
   "name": "python3"
  },
  "language_info": {
   "codemirror_mode": {
    "name": "ipython",
    "version": 3
   },
   "file_extension": ".py",
   "mimetype": "text/x-python",
   "name": "python",
   "nbconvert_exporter": "python",
   "pygments_lexer": "ipython3",
   "version": "3.10.9"
  },
  "orig_nbformat": 4
 },
 "nbformat": 4,
 "nbformat_minor": 2
}
